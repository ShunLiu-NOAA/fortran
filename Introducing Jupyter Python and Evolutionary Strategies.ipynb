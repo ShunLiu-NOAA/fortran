{
 "cells": [
  {
   "cell_type": "markdown",
   "metadata": {},
   "source": [
    "# This is a level 1 heading\n",
    "## 2 This is a level 2 heading\n",
    "### level 3\n",
    "\n",
    "all from markdown\n"
   ]
  },
  {
   "cell_type": "markdown",
   "metadata": {},
   "source": [
    "## Section 1: Warming up with python and random numbers"
   ]
  },
  {
   "cell_type": "markdown",
   "metadata": {},
   "source": [
    "Import math, numpy (more math)"
   ]
  },
  {
   "cell_type": "code",
   "execution_count": 1,
   "metadata": {},
   "outputs": [],
   "source": [
    "#code\n",
    "from math import *\n",
    "import numpy as np"
   ]
  },
  {
   "cell_type": "markdown",
   "metadata": {},
   "source": [
    "Experiment with random numbers.\n",
    "Evolutionary Strategies like gaussian distributions to the parameters, with lognormal distribution to the evolution of the standard deviations"
   ]
  },
  {
   "cell_type": "code",
   "execution_count": 2,
   "metadata": {},
   "outputs": [],
   "source": [
    "seed = 0\n",
    "mean = 0\n",
    "sdev = 1.0\n",
    "npts = 3200\n",
    "x = np.random.normal(mean, sdev, npts)\n",
    "sx = np.random.lognormal(mean, sdev, npts)\n",
    "\n",
    "#print(x[0])\n",
    "#print(\"gaussian var N(0,1) \", x)\n",
    "#print(\"lognormal var \",sx)"
   ]
  },
  {
   "cell_type": "code",
   "execution_count": 3,
   "metadata": {},
   "outputs": [],
   "source": [
    "#The score can be any function of the errors. RMSE is used here for demonstration purposes, \n",
    "#   but in truth, it could be anything. \n",
    "# exponential(delta) is fine (and will give very strange results in the evolution -- try it)\n",
    "def score(delta, start, end, tolerance = 0):\n",
    "    tmp = delta[start:end]\n",
    "    tmp *= tmp\n",
    "    return sqrt(sum(tmp)/(end-start+1))\n",
    "    #tmp = np.exp(delta[start:end])\n",
    "    #return sum(tmp)/(end-start+1)"
   ]
  },
  {
   "cell_type": "markdown",
   "metadata": {},
   "source": [
    "As npts increases, the rmse will tend to the standard deviation. Try it.\n",
    "\n",
    "The start and end points recognize that we will be training on a subset of the data. Train on 0-N/2, score on N/2+1 to N, for instance."
   ]
  },
  {
   "cell_type": "code",
   "execution_count": 4,
   "metadata": {},
   "outputs": [
    {
     "name": "stdout",
     "output_type": "stream",
     "text": [
      "-0.19401029683983828\n",
      "0 1600 0.996816605612743\n"
     ]
    }
   ],
   "source": [
    "start = int(0)\n",
    "end = int(npts/2)\n",
    "print(x[0])\n",
    "print(start, end, score(x, start, end))"
   ]
  },
  {
   "cell_type": "markdown",
   "metadata": {},
   "source": [
    "Quick check that the histograms look appropriate:"
   ]
  },
  {
   "cell_type": "code",
   "execution_count": 5,
   "metadata": {},
   "outputs": [
    {
     "data": {
      "text/plain": [
       "(array([   0,    1,   25,  236,  573, 1629,  454,  144,   64,   26]),\n",
       " array([-5., -4., -3., -2., -1.,  0.,  1.,  2.,  3.,  4.,  5.]))"
      ]
     },
     "execution_count": 5,
     "metadata": {},
     "output_type": "execute_result"
    }
   ],
   "source": [
    "np.histogram(x,range=(-5,5))"
   ]
  },
  {
   "cell_type": "code",
   "execution_count": 6,
   "metadata": {},
   "outputs": [
    {
     "data": {
      "text/plain": [
       "(array([1581,  812,  354,  171,  100,   65,   27,   21,   15,   13]),\n",
       " array([ 0.,  1.,  2.,  3.,  4.,  5.,  6.,  7.,  8.,  9., 10.]))"
      ]
     },
     "execution_count": 6,
     "metadata": {},
     "output_type": "execute_result"
    }
   ],
   "source": [
    "np.histogram(sx,range=(0,10))"
   ]
  },
  {
   "cell_type": "markdown",
   "metadata": {},
   "source": [
    "## Acquiring and displaying data\n",
    "\n",
    "The test input is for station 1151 in the MOS data set, KCGC (Crystal River Airport, FL).\n",
    "It includes GFS values for T2M, Td, 850-1000mb thickness, rh, and wind speed.\n",
    "Then t2m-observed, td-observed, t2m-error, td-error.\n",
    "Once per day, for 579 days of data.\n",
    "\n",
    "Using csv module for parsing csv file"
   ]
  },
  {
   "cell_type": "code",
   "execution_count": 7,
   "metadata": {},
   "outputs": [
    {
     "name": "stdout",
     "output_type": "stream",
     "text": [
      "0.0 37.85\n"
     ]
    }
   ],
   "source": [
    "import csv\n",
    "import matplotlib\n",
    "import matplotlib.pyplot as plt\n",
    "\n",
    "nobs = 579\n",
    "day = np.zeros((nobs))\n",
    "t2m_gfs = np.zeros((nobs))\n",
    "td_gfs = np.zeros((nobs))\n",
    "thick_gfs = np.zeros((nobs))\n",
    "rh_gfs = np.zeros((nobs))\n",
    "speed = np.zeros((nobs))\n",
    "obs_t2m = np.zeros((nobs))\n",
    "obs_td = np.zeros((nobs))\n",
    "terr = np.zeros((nobs))\n",
    "tderr = np.zeros((nobs))\n",
    "#could also make up a class 'matchup', and have 579 of those\n",
    "\n",
    "with open('testin.csv') as csvfile:\n",
    "    k = 0\n",
    "    sreader = csv.reader(csvfile, delimiter=\",\")\n",
    "    for line in sreader:\n",
    "        day[k] = float(line[0])\n",
    "        t2m_gfs[k] = float(line[1])\n",
    "        td_gfs[k] = float(line[2])\n",
    "        thick_gfs[k] = float(line[3])\n",
    "        rh_gfs[k] = float(line[4])\n",
    "        speed[k] = float(line[5])\n",
    "        obs_t2m[k] = float(line[6])\n",
    "        obs_td[k] = float(line[7])\n",
    "        terr[k] = float(line[8])\n",
    "        tderr[k] = float(line[9])\n",
    "        k += 1\n",
    "csvfile.close()\n",
    "        \n",
    "print(day[0],t2m_gfs[0])"
   ]
  },
  {
   "cell_type": "code",
   "execution_count": 8,
   "metadata": {},
   "outputs": [
    {
     "name": "stderr",
     "output_type": "stream",
     "text": [
      "/Library/Frameworks/Python.framework/Versions/3.7/lib/python3.7/site-packages/ipykernel_launcher.py:10: UserWarning: Matplotlib is currently using module://ipykernel.pylab.backend_inline, which is a non-GUI backend, so cannot show the figure.\n",
      "  # Remove the CWD from sys.path while we load stuff.\n"
     ]
    },
    {
     "data": {
      "image/png": "[encoded data removed]",
      "text/plain": [
       "<Figure size 432x288 with 1 Axes>"
      ]
     },
     "metadata": {
      "needs_background": "light"
     },
     "output_type": "display_data"
    }
   ],
   "source": [
    "#probably you'd rather see a graphic, so here are t2m_gfs and observed:\n",
    "#matplotlib.use('Agg') #for batch mode\n",
    "#matplotlib.use('Qt5Agg')\n",
    "\n",
    "fig,ax = plt.subplots()\n",
    "ax.set(xlabel=\"Day number\", ylabel=\"C\")\n",
    "ax.plot(day,t2m_gfs)\n",
    "ax.plot(day,obs_t2m)\n",
    "ax.grid()\n",
    "fig.show()"
   ]
  },
  {
   "cell_type": "code",
   "execution_count": 9,
   "metadata": {},
   "outputs": [
    {
     "name": "stderr",
     "output_type": "stream",
     "text": [
      "/Library/Frameworks/Python.framework/Versions/3.7/lib/python3.7/site-packages/ipykernel_launcher.py:10: UserWarning: Matplotlib is currently using module://ipykernel.pylab.backend_inline, which is a non-GUI backend, so cannot show the figure.\n",
      "  # Remove the CWD from sys.path while we load stuff.\n"
     ]
    },
    {
     "data": {
      "image/png": "[encoded data removed]",
      "text/plain": [
       "<Figure size 432x288 with 1 Axes>"
      ]
     },
     "metadata": {
      "needs_background": "light"
     },
     "output_type": "display_data"
    }
   ],
   "source": [
    "#kluge -- my desk isn't happy with the figure show\n",
    "plt.close()\n",
    "\n",
    "\n",
    "fig,ax = plt.subplots()\n",
    "ax.set(xlabel=\"Day number\", ylabel=\"delta C\")\n",
    "ax.plot(day,t2m_gfs-obs_t2m)\n",
    "ax.plot(day,terr)\n",
    "ax.grid()\n",
    "fig.show()"
   ]
  },
  {
   "cell_type": "code",
   "execution_count": 10,
   "metadata": {},
   "outputs": [
    {
     "name": "stdout",
     "output_type": "stream",
     "text": [
      "3.9968028886505635e-15\n"
     ]
    }
   ],
   "source": [
    "#kluge again\n",
    "plt.close()\n",
    "\n",
    "#confirm that the difference isn't just optically small:\n",
    "print((t2m_gfs-obs_t2m-terr).max())"
   ]
  },
  {
   "cell_type": "code",
   "execution_count": 11,
   "metadata": {},
   "outputs": [
    {
     "name": "stderr",
     "output_type": "stream",
     "text": [
      "/Library/Frameworks/Python.framework/Versions/3.7/lib/python3.7/site-packages/ipykernel_launcher.py:6: UserWarning: Matplotlib is currently using module://ipykernel.pylab.backend_inline, which is a non-GUI backend, so cannot show the figure.\n",
      "  \n"
     ]
    },
    {
     "data": {
      "image/png": "[encoded data removed]",
      "text/plain": [
       "<Figure size 432x288 with 1 Axes>"
      ]
     },
     "metadata": {
      "needs_background": "light"
     },
     "output_type": "display_data"
    }
   ],
   "source": [
    "#space for experimenting with plotting variables, say scatter plot of terr vs. the various gfs parameters:\n",
    "fig,ax = plt.subplots()\n",
    "ax.set(xlabel=\"t2m GFS\", ylabel=\"terr\")\n",
    "plt.scatter(t2m_gfs, terr)\n",
    "ax.grid()\n",
    "fig.show()"
   ]
  },
  {
   "cell_type": "code",
   "execution_count": 12,
   "metadata": {},
   "outputs": [
    {
     "name": "stdout",
     "output_type": "stream",
     "text": [
      "-2.150017271157168 -3.8700310880829023\n",
      "3.487190673166439 2.7455280957850143 0.787318031363057\n",
      "[-0.53860487] [0.29009521]\n"
     ]
    }
   ],
   "source": [
    "plt.close()\n",
    "\n",
    "mean = terr.mean()\n",
    "rmse = sqrt(sum(terr*terr)/nobs)\n",
    "var  = sqrt(rmse*rmse-mean*mean)\n",
    "\n",
    "print(terr.mean(), terr.mean()*1.8) #C and F mean errors\n",
    "print(rmse, var, var/rmse)          #RMSE, variance\n",
    "\n",
    "r = np.correlate(terr,t2m_gfs) / sqrt(np.correlate(terr,terr)*np.correlate(t2m_gfs,t2m_gfs)) \n",
    "print(r,r*r)\n"
   ]
  },
  {
   "cell_type": "markdown",
   "metadata": {},
   "source": [
    "As an optical matter, it looks like there's no particular relation between how hot it is, according to the GFS, and how much the GFS is off by -- bias of almost 4 F. \n",
    "\n",
    "The bias being 2.15 and rms of 3.50 (rounded), suggests that simply applying a bias correction to the GFS can give substantial improvement on its own -- about 22% reduction in the rmse for removing the bias term.\n",
    "\n",
    "The correlation (np.correlate is computing covariance, so needs the normalization) being |0.54| suggests that our eyes are largely correct -- linear regression can explain about 29% of the variance. Better than the 22% of simple bias correction, but not by much (depending, of course, on one's needs).\n",
    "\n",
    "Of course we have more variables available, and no particular reason to believe that linear functions are the only, much less necessarily the best, ones to use.\n"
   ]
  },
  {
   "cell_type": "markdown",
   "metadata": {},
   "source": [
    "## Preparing for the Evolutionary Strategy\n",
    "\n",
    "It is the ambiguity about which the best variables are, what the best functions of them might be, and how best to combine them which encourages looking to evolutionary strategies -- to find improved mappings between the 5 GFS variables at hand and the one item we're trying to predict (or to correct). The principles generalize to many more input variables and many more outputs. Also, one may converge the Evolutionary Strategy towards a Neural Network. There will be an example later."
   ]
  },
  {
   "cell_type": "code",
   "execution_count": 13,
   "metadata": {},
   "outputs": [],
   "source": [
    "class matchup:\n",
    "    #values is a set (tuple or np.ndarray) of parameter values in the matchup\n",
    "    def __init__(self, values): \n",
    "        self.values = values\n",
    "    \n",
    "    #display element by element the values of the matchup\n",
    "    def show(self):\n",
    "        n = len(self.values)\n",
    "        for k in range(0,n):\n",
    "            print(k,self.values[k])\n",
    "    \n",
    "    #extract the k-th parameter from the values tuple\n",
    "    def __getitem__(self,k):\n",
    "        return(self.values[k])\n",
    "            "
   ]
  },
  {
   "cell_type": "code",
   "execution_count": 14,
   "metadata": {},
   "outputs": [
    {
     "name": "stdout",
     "output_type": "stream",
     "text": [
      "0 0\n",
      "1 1\n",
      "2 2\n",
      "3 3\n",
      "number of elements in y:  2\n"
     ]
    }
   ],
   "source": [
    "x = matchup((0,1,2,3))\n",
    "x.show()\n",
    "\n",
    "#making a toy variable to hold a vector of matchups.\n",
    "#note syntax for adding new elements.\n",
    "y = []\n",
    "y += [x]\n",
    "y += [x]\n",
    "print('number of elements in y: ',len(y))\n",
    "\n",
    "  "
   ]
  },
  {
   "cell_type": "code",
   "execution_count": 15,
   "metadata": {},
   "outputs": [
    {
     "name": "stdout",
     "output_type": "stream",
     "text": [
      "<__main__.matchup object at 0x7f9f8b075e48>\n",
      "0 578.0\n",
      "1 6.35\n",
      "2 -1.65\n",
      "3 -10.8\n",
      "4 63.0\n",
      "5 5.0\n",
      "6 -9.76\n",
      "\n",
      " z len =  579 \n",
      "\n",
      "0 578.0\n",
      "1 6.35\n",
      "2 -1.65\n",
      "3 -10.8\n",
      "4 63.0\n",
      "5 5.0\n",
      "6 -9.76\n",
      "\n",
      "\n",
      "37.85 37.85\n",
      "6.35 6.35\n"
     ]
    }
   ],
   "source": [
    "# Now bring in the data for real work:\n",
    "z = []\n",
    "\n",
    "  \n",
    "with open('testin.csv') as csvfile:\n",
    "    k = 0\n",
    "    sreader = csv.reader(csvfile, delimiter=\",\")\n",
    "    for line in sreader:\n",
    "        day = float(line[0])\n",
    "        t2m_gfs = float(line[1])\n",
    "        td_gfs = float(line[2])\n",
    "        thick_gfs = float(line[3])\n",
    "        rh_gfs = float(line[4])\n",
    "        speed = float(line[5])\n",
    "        obs_t2m= float(line[6])\n",
    "        obs_td = float(line[7])\n",
    "        terr = float(line[8])\n",
    "        tderr = float(line[9])\n",
    "        \n",
    "        #Note that obs_td, obs_t2m, tderr are being ignored. They can be added to the list.\n",
    "        #  n.b.: note that it is terr that is used as the variable to predict, not t2m itself. \n",
    "        #Model and observation are well-enough correlated that it is the increment \n",
    "        #which makes more sense to predict [Krasnopolsky,20NNN]\n",
    "        m = matchup((day,t2m_gfs,td_gfs,thick_gfs,rh_gfs,speed,terr))\n",
    "        z.append(m)\n",
    "        k += 1\n",
    "    \n",
    "csvfile.close()\n",
    "\n",
    "#display the last-added element\n",
    "print(m)\n",
    "m.show()\n",
    "\n",
    "#display it from the matchup vector\n",
    "print(\"\\n z len = \",len(z),'\\n')\n",
    "z[len(z)-1].show()\n",
    "print(\"\\n\")\n",
    "\n",
    "#print t2m_gfs specifically -- two different ways of referencing it. \n",
    "#The first emphasizes that z[0] is the entity, and we want the element numbered '1' from it. \n",
    "#  Remembering that indexing goes from 0 in Python.\n",
    "print((z[0])[1], z[0][1])\n",
    "print((z[nobs-1])[1], z[nobs-1][1])\n"
   ]
  },
  {
   "cell_type": "markdown",
   "metadata": {},
   "source": [
    "So now z is holding our matchup set of variables. \n",
    "\n",
    "We now need a function whose arguments will be a matchup and a set of constants\n",
    "* make a prediction about what terr should be\n",
    "* return how incorrect it is"
   ]
  },
  {
   "cell_type": "code",
   "execution_count": 16,
   "metadata": {},
   "outputs": [],
   "source": [
    "#make a prediction from variables in the matchup x, using constants in the list y\n",
    "#First prediction method:\n",
    "def predict1(x,y):\n",
    "    nx = len(x.values)\n",
    "    #will ignore matchup[0] (day of observation) and matchup[6], the error term, \n",
    "    #  in making prediction\n",
    "    #Starting point: simple multi-linear regression, a bias term plus \n",
    "    #  weights(y[k]) times the predictors\n",
    "    pred = y[0]\n",
    "    for k in range(1,nx-1):\n",
    "        pred += x.values[k]*y[k]\n",
    "    #print(pred, x.values[nx-1], x[nx-1])\n",
    "    return (x.values[nx-1]+pred)\n",
    "\n",
    "#take a set of matchups and evaluate (ultimately, to score) the predictions from predict1\n",
    "#  note that we're now applying a start and end time -- the training period\n",
    "def evaluator1(z, start, end, y):\n",
    "    deltas = np.zeros((end-start+1))\n",
    "    for k in range (start, end):\n",
    "        deltas[k-start] = predict1(z[k],y)\n",
    "    #print(deltas)\n",
    "    return score(deltas,0,len(deltas))\n",
    "\n",
    "#n.b. would be desirable to have a general evaluator that takes the \n",
    "#    prediction function as an argument as well"
   ]
  },
  {
   "cell_type": "markdown",
   "metadata": {},
   "source": [
    "Very simplest, let's set up the prediction being just the bias term, 2.15 C, we found above:\n"
   ]
  },
  {
   "cell_type": "code",
   "execution_count": 17,
   "metadata": {},
   "outputs": [
    {
     "name": "stdout",
     "output_type": "stream",
     "text": [
      "2.7426152211650314\n",
      "2.6833980540126854\n"
     ]
    }
   ],
   "source": [
    "weights = np.zeros((6))\n",
    "\n",
    "weights[0] = 2.15\n",
    "print(evaluator1(z,0,364,weights)) # score on the first year of data, where we'll do the evolving\n",
    "print(evaluator1(z,365,nobs-1,weights)) #now for the remainder of the span"
   ]
  },
  {
   "cell_type": "code",
   "execution_count": 18,
   "metadata": {},
   "outputs": [
    {
     "name": "stdout",
     "output_type": "stream",
     "text": [
      "3.428963503798562\n",
      "3.505670423225644\n"
     ]
    }
   ],
   "source": [
    "#For comparison, try without any corrections:\n",
    "weights[0] = 0.0\n",
    "print(evaluator1(z,0,364,weights)) \n",
    "print(evaluator1(z,365,nobs-1,weights))"
   ]
  },
  {
   "cell_type": "markdown",
   "metadata": {},
   "source": [
    "### towards the evolutionary strategy\n",
    "\n",
    "Discussion of what exactly is evolutionary will wait for next section. For now, let us continue building the framework. \n",
    "\n",
    "There will be a population. Each member of the population will have a set of weights, a set of standard deviations (to specify how the weights may evolve), and a score. It is up to the evaluator, already written, to find the score, also already written. So it is the evolver that is currently needed"
   ]
  },
  {
   "cell_type": "code",
   "execution_count": 20,
   "metadata": {},
   "outputs": [
    {
     "name": "stdout",
     "output_type": "stream",
     "text": [
      "[-0.1830074  0.         0.         0.         0.         0.       ]\n",
      "[1. 0. 0. 0. 0. 0.]\n"
     ]
    }
   ],
   "source": [
    "sdevs = np.zeros((6))\n",
    "sdevs[0] = 1.0\n",
    "weights = np.zeros((6))\n",
    "weights[0] = 0.0\n",
    "\n",
    "def evolve(weights, sdevs):\n",
    "    #sdevs[0]   = np.random.lognormal(sdevs[0],0.25)\n",
    "    for k in range (0,len(weights)):\n",
    "        weights[k] = np.random.normal(weights[k],sdevs[k])\n",
    "\n",
    "evolve(weights,sdevs)\n",
    "print(weights)\n",
    "print(sdevs)"
   ]
  },
  {
   "cell_type": "markdown",
   "metadata": {},
   "source": [
    "Now to create a class to hold one of the critters (things we're going to evolve). "
   ]
  },
  {
   "cell_type": "code",
   "execution_count": 21,
   "metadata": {},
   "outputs": [],
   "source": [
    "class critter:\n",
    "    score = float(99.0)\n",
    "    \n",
    "    def __init__(self, nparm): \n",
    "        self.weights = np.zeros((nparm))\n",
    "        self.sdevs = np.zeros((nparm))\n",
    "        #self.score = evaluate(matchups, start, end, self.weights)\n",
    "    \n",
    "    def init(self, weights, sdevs):\n",
    "        for k in range(0,len(weights)):\n",
    "          self.weights[k] = weights[k]\n",
    "          self.sdevs[k]   = sdevs[k] \n",
    "            \n",
    "    def copy(self, x):\n",
    "        for k in range(0,len(x.weights)):\n",
    "          self.weights[k] = x.weights[k]\n",
    "          self.sdevs[k]   = x.sdevs[k]\n",
    "        #self.show()\n",
    "\n",
    "    #display element by element the weights and sdevs\n",
    "    def show(self):\n",
    "        n = len(self.weights)\n",
    "#        for k in range(0,n):\n",
    "        for k in range(0,1):\n",
    "            print(k,self.weights[k], self.sdevs[k])\n",
    "            \n",
    "    def evolve(self):\n",
    "        evolve(self.weights, self.sdevs)\n",
    "    \n",
    "    def skill(self, matchups, start, end):\n",
    "        self.score = evaluator1(matchups, start, end, self.weights)\n"
   ]
  },
  {
   "cell_type": "code",
   "execution_count": 22,
   "metadata": {},
   "outputs": [
    {
     "name": "stdout",
     "output_type": "stream",
     "text": [
      "0 0.0 0.0\n",
      "0 0.1260629848615364 0.1260629848615364\n",
      "1 -1.4743934103832532 0.1260629848615364\n",
      "2 1.5419495976405144 0.1260629848615364\n",
      "3 0.04874820193119693 0.1260629848615364\n",
      "4 -2.456651256200807 0.1260629848615364\n",
      "5 -0.9266600321963061 0.1260629848615364\n",
      "6 0.8293076786591508 0.1260629848615364\n",
      "7 1.7396387553479897 0.1260629848615364\n",
      "8 0.6893980955601907 0.1260629848615364\n",
      "9 0.11318377812612447 0.1260629848615364\n",
      "0 0.1260629848615364 1.0\n",
      "0 -1.4743934103832532 1.0\n",
      "0 0.1260629848615364 1.0\n"
     ]
    }
   ],
   "source": [
    "npopulation = 10\n",
    "population = []\n",
    "\n",
    "nparameters = 6\n",
    "\n",
    "for k in range (0,npopulation):\n",
    "    population.append(critter(nparameters))\n",
    "    \n",
    "population[npopulation-1].show()\n",
    "\n",
    "sdevs[0] = 1.0\n",
    "for k in range (0,npopulation):\n",
    "    weights[0] = np.random.normal(0,1)\n",
    "    population[k].init(weights,sdevs)\n",
    "    print(k, population[k].weights[0], population[0].weights[0] )\n",
    "\n",
    "population[0].show()\n",
    "population[1].show()\n",
    "population[1].copy(population[0])\n",
    "population[1].show()"
   ]
  },
  {
   "cell_type": "code",
   "execution_count": 23,
   "metadata": {},
   "outputs": [
    {
     "name": "stdout",
     "output_type": "stream",
     "text": [
      "k, smin =  7 2.7605140528818555\n",
      "0 1.7396387553479897 1.0\n"
     ]
    }
   ],
   "source": [
    "#recall that the poorly-named 'z' is holding the matchups\n",
    "smin = 9999.\n",
    "kbest = int(99)\n",
    "\n",
    "for k in range (0,npopulation):\n",
    "    population[k].skill(z, 0, 364)\n",
    "    if (population[k].score < smin):\n",
    "        kbest = k\n",
    "        smin = population[k].score \n",
    "    \n",
    "print(\"k, smin = \",kbest, smin)\n",
    "population[kbest].show()"
   ]
  },
  {
   "cell_type": "code",
   "execution_count": 24,
   "metadata": {},
   "outputs": [
    {
     "name": "stdout",
     "output_type": "stream",
     "text": [
      "0 1.7396387553479897 1.0\n",
      "new best  0 7 2.7529254494682744 2.7605140528818555\n",
      "0 2.318699516858203 1.0\n",
      "new best  1 9 2.7417618676818507 2.7529254494682744\n",
      "0 2.0161452257928816 1.0\n",
      "new best  4 6 2.74166880503849 2.7417618676818507\n",
      "0 2.109337919980567 1.0\n",
      "new best  11 6 2.7416317909158594 2.74166880503849\n",
      "0 2.106945322985821 1.0\n",
      "new best  12 4 2.741398320697173 2.7416317909158594\n",
      "0 2.0862553431896935 1.0\n",
      "new best  36 2 2.741380778395252 2.741398320697173\n",
      "0 2.083778469802923 1.0\n",
      "new best  40 2 2.741346807108397 2.741380778395252\n",
      "0 2.0776198780019843 1.0\n",
      "new best  42 3 2.741320344855025 2.741346807108397\n",
      "0 2.064425034699917 1.0\n",
      "new best  125 6 2.741320296569906 2.741320344855025\n",
      "0 2.0645577113542037 1.0\n",
      "new best  222 1 2.7413202713788993 2.741320296569906\n",
      "0 2.064635022415112 1.0\n",
      "new best  236 9 2.7413201489838497 2.7413202713788993\n",
      "0 2.0652415706375518 1.0\n",
      "0 2.0652415706375518 1.0\n",
      "\n",
      "\n",
      "2.7328532666187684\n"
     ]
    }
   ],
   "source": [
    "#swap best in to all slots\n",
    "#then evolve a new raft of critters from that\n",
    "#evaluate them\n",
    "#repeat until limit of generations or happy\n",
    "genmax = int(300)\n",
    "population[kbest].show()\n",
    "population[0].sdevs[0] = 0.25\n",
    "\n",
    "for gen in range(0,genmax):\n",
    "    population[0].copy(population[kbest])\n",
    "    population[0].score = population[kbest].score\n",
    "    score_best = float(population[0].score)\n",
    "    smin = score_best\n",
    "    kbest = 0\n",
    "    for k in range (1, npopulation):\n",
    "        population[k].copy(population[0])\n",
    "        population[k].evolve()\n",
    "        population[k].skill(z,0,364)\n",
    "        if (population[k].score < score_best):\n",
    "            kbest = k\n",
    "            smin = population[k].score\n",
    "    if (kbest != 0):\n",
    "        print(\"new best \",gen, kbest, smin, score_best)\n",
    "        population[kbest].show()\n",
    "        \n",
    "population[kbest].show()\n",
    "\n",
    "print(\"\\n\")\n",
    "print(evaluator1(z, 365,nobs,population[kbest].weights))\n"
   ]
  },
  {
   "cell_type": "markdown",
   "metadata": {},
   "source": [
    "Jupyter and Equations:\n",
    "For mathematics in the discussion and documents, we can use LaTeX markup with the modification that equations on their own line are noted by $$ before and after, rather than a \\begin \\end pair.\n",
    "\n",
    "Inline equation $ Volume = \\frac{4.}{3.}*\\pi*r^3 $, while offset equation is: $$ Volume = \\frac{4.}{3.}*\\pi*r^3 $$\n",
    "\n",
    "\n"
   ]
  },
  {
   "cell_type": "code",
   "execution_count": null,
   "metadata": {},
   "outputs": [],
   "source": []
  },
  {
   "cell_type": "code",
   "execution_count": null,
   "metadata": {},
   "outputs": [],
   "source": []
  }
 ],
 "metadata": {
  "kernelspec": {
   "display_name": "Python 3",
   "language": "python",
   "name": "python3"
  },
  "language_info": {
   "codemirror_mode": {
    "name": "ipython",
    "version": 3
   },
   "file_extension": ".py",
   "mimetype": "text/x-python",
   "name": "python",
   "nbconvert_exporter": "python",
   "pygments_lexer": "ipython3",
   "version": "3.7.1"
  }
 },
 "nbformat": 4,
 "nbformat_minor": 4
}
